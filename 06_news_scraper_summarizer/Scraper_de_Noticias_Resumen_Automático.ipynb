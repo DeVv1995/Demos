{
  "nbformat": 4,
  "nbformat_minor": 0,
  "metadata": {
    "colab": {
      "provenance": []
    },
    "kernelspec": {
      "name": "python3",
      "display_name": "Python 3"
    },
    "language_info": {
      "name": "python"
    }
  },
  "cells": [
    {
      "cell_type": "markdown",
      "source": [
        "***Proyecto 6:*** Scraper de Noticias + Resumen Automático"
      ],
      "metadata": {
        "id": "77-ow4QwOP3B"
      }
    },
    {
      "cell_type": "markdown",
      "source": [
        "***Descripción del demo:***Este proyecto permite extraer noticias de cualquier sitio web y generar un resumen automático del contenido utilizando técnicas de Procesamiento de Lenguaje Natural (NLP). Ideal para mantenerse informado rápidamente sin leer artículos extensos."
      ],
      "metadata": {
        "id": "KjJDJ0xnOWif"
      }
    },
    {
      "cell_type": "markdown",
      "source": [
        "Tecnologías utilizadas\n",
        "\n",
        "|  Herramienta     | Uso principal                                 |\n",
        "|--------------------|-----------------------------------------------|\n",
        "|  Python 3         | Lenguaje principal                            |\n",
        "|  Newspaper3k      | Extracción automática de artículos web        |\n",
        "|  Sumy             | Generación de resúmenes LSA                   |\n",
        "|  NLTK             | Tokenización y soporte NLP                    |\n",
        "|  Google Colab     | Entorno de ejecución recomendado              |"
      ],
      "metadata": {
        "id": "fRlD5jMvOjRk"
      }
    },
    {
      "cell_type": "markdown",
      "source": [
        "# ***Demo***"
      ],
      "metadata": {
        "id": "PL_K8bbtOq4H"
      }
    },
    {
      "cell_type": "markdown",
      "source": [
        "1. 📚🔧 INSTALACIÓN DE LIBRERÍAS"
      ],
      "metadata": {
        "id": "lX_0aUAWOtfR"
      }
    },
    {
      "cell_type": "code",
      "execution_count": 1,
      "metadata": {
        "colab": {
          "base_uri": "https://localhost:8080/"
        },
        "id": "WZ5rCBTaMEk3",
        "outputId": "6ad169d6-ca23-451e-82d4-128cdc815049"
      },
      "outputs": [
        {
          "output_type": "stream",
          "name": "stdout",
          "text": [
            "Requirement already satisfied: newspaper3k in /usr/local/lib/python3.11/dist-packages (0.2.8)\n",
            "Requirement already satisfied: sumy in /usr/local/lib/python3.11/dist-packages (0.11.0)\n",
            "Requirement already satisfied: lxml_html_clean in /usr/local/lib/python3.11/dist-packages (0.4.2)\n",
            "Requirement already satisfied: beautifulsoup4>=4.4.1 in /usr/local/lib/python3.11/dist-packages (from newspaper3k) (4.13.4)\n",
            "Requirement already satisfied: Pillow>=3.3.0 in /usr/local/lib/python3.11/dist-packages (from newspaper3k) (11.1.0)\n",
            "Requirement already satisfied: PyYAML>=3.11 in /usr/local/lib/python3.11/dist-packages (from newspaper3k) (6.0.2)\n",
            "Requirement already satisfied: cssselect>=0.9.2 in /usr/local/lib/python3.11/dist-packages (from newspaper3k) (1.3.0)\n",
            "Requirement already satisfied: lxml>=3.6.0 in /usr/local/lib/python3.11/dist-packages (from newspaper3k) (5.3.2)\n",
            "Requirement already satisfied: nltk>=3.2.1 in /usr/local/lib/python3.11/dist-packages (from newspaper3k) (3.9.1)\n",
            "Requirement already satisfied: requests>=2.10.0 in /usr/local/lib/python3.11/dist-packages (from newspaper3k) (2.32.3)\n",
            "Requirement already satisfied: feedparser>=5.2.1 in /usr/local/lib/python3.11/dist-packages (from newspaper3k) (6.0.11)\n",
            "Requirement already satisfied: tldextract>=2.0.1 in /usr/local/lib/python3.11/dist-packages (from newspaper3k) (5.3.0)\n",
            "Requirement already satisfied: feedfinder2>=0.0.4 in /usr/local/lib/python3.11/dist-packages (from newspaper3k) (0.0.4)\n",
            "Requirement already satisfied: jieba3k>=0.35.1 in /usr/local/lib/python3.11/dist-packages (from newspaper3k) (0.35.1)\n",
            "Requirement already satisfied: python-dateutil>=2.5.3 in /usr/local/lib/python3.11/dist-packages (from newspaper3k) (2.8.2)\n",
            "Requirement already satisfied: tinysegmenter==0.3 in /usr/local/lib/python3.11/dist-packages (from newspaper3k) (0.3)\n",
            "Requirement already satisfied: docopt<0.7,>=0.6.1 in /usr/local/lib/python3.11/dist-packages (from sumy) (0.6.2)\n",
            "Requirement already satisfied: breadability>=0.1.20 in /usr/local/lib/python3.11/dist-packages (from sumy) (0.1.20)\n",
            "Requirement already satisfied: pycountry>=18.2.23 in /usr/local/lib/python3.11/dist-packages (from sumy) (24.6.1)\n",
            "Requirement already satisfied: soupsieve>1.2 in /usr/local/lib/python3.11/dist-packages (from beautifulsoup4>=4.4.1->newspaper3k) (2.6)\n",
            "Requirement already satisfied: typing-extensions>=4.0.0 in /usr/local/lib/python3.11/dist-packages (from beautifulsoup4>=4.4.1->newspaper3k) (4.13.2)\n",
            "Requirement already satisfied: chardet in /usr/local/lib/python3.11/dist-packages (from breadability>=0.1.20->sumy) (5.2.0)\n",
            "Requirement already satisfied: six in /usr/local/lib/python3.11/dist-packages (from feedfinder2>=0.0.4->newspaper3k) (1.17.0)\n",
            "Requirement already satisfied: sgmllib3k in /usr/local/lib/python3.11/dist-packages (from feedparser>=5.2.1->newspaper3k) (1.0.0)\n",
            "Requirement already satisfied: click in /usr/local/lib/python3.11/dist-packages (from nltk>=3.2.1->newspaper3k) (8.1.8)\n",
            "Requirement already satisfied: joblib in /usr/local/lib/python3.11/dist-packages (from nltk>=3.2.1->newspaper3k) (1.4.2)\n",
            "Requirement already satisfied: regex>=2021.8.3 in /usr/local/lib/python3.11/dist-packages (from nltk>=3.2.1->newspaper3k) (2024.11.6)\n",
            "Requirement already satisfied: tqdm in /usr/local/lib/python3.11/dist-packages (from nltk>=3.2.1->newspaper3k) (4.67.1)\n",
            "Requirement already satisfied: charset-normalizer<4,>=2 in /usr/local/lib/python3.11/dist-packages (from requests>=2.10.0->newspaper3k) (3.4.1)\n",
            "Requirement already satisfied: idna<4,>=2.5 in /usr/local/lib/python3.11/dist-packages (from requests>=2.10.0->newspaper3k) (3.10)\n",
            "Requirement already satisfied: urllib3<3,>=1.21.1 in /usr/local/lib/python3.11/dist-packages (from requests>=2.10.0->newspaper3k) (2.3.0)\n",
            "Requirement already satisfied: certifi>=2017.4.17 in /usr/local/lib/python3.11/dist-packages (from requests>=2.10.0->newspaper3k) (2025.1.31)\n",
            "Requirement already satisfied: requests-file>=1.4 in /usr/local/lib/python3.11/dist-packages (from tldextract>=2.0.1->newspaper3k) (2.1.0)\n",
            "Requirement already satisfied: filelock>=3.0.8 in /usr/local/lib/python3.11/dist-packages (from tldextract>=2.0.1->newspaper3k) (3.18.0)\n",
            "Requirement already satisfied: nltk in /usr/local/lib/python3.11/dist-packages (3.9.1)\n",
            "Requirement already satisfied: click in /usr/local/lib/python3.11/dist-packages (from nltk) (8.1.8)\n",
            "Requirement already satisfied: joblib in /usr/local/lib/python3.11/dist-packages (from nltk) (1.4.2)\n",
            "Requirement already satisfied: regex>=2021.8.3 in /usr/local/lib/python3.11/dist-packages (from nltk) (2024.11.6)\n",
            "Requirement already satisfied: tqdm in /usr/local/lib/python3.11/dist-packages (from nltk) (4.67.1)\n"
          ]
        },
        {
          "output_type": "stream",
          "name": "stderr",
          "text": [
            "[nltk_data] Downloading package punkt to /root/nltk_data...\n",
            "[nltk_data]   Package punkt is already up-to-date!\n",
            "[nltk_data] Downloading package punkt_tab to /root/nltk_data...\n",
            "[nltk_data]   Unzipping tokenizers/punkt_tab.zip.\n"
          ]
        },
        {
          "output_type": "execute_result",
          "data": {
            "text/plain": [
              "True"
            ]
          },
          "metadata": {},
          "execution_count": 1
        }
      ],
      "source": [
        "!pip install newspaper3k sumy lxml_html_clean\n",
        "!pip install --upgrade nltk  # Asegurarnos de tener la versión más reciente"
      ]
    },
    {
      "cell_type": "markdown",
      "source": [
        "2. 📥 CARGA Y CONFIGURACIÓN DEL SCRAPER"
      ],
      "metadata": {
        "id": "XiqYZSkQO3qu"
      }
    },
    {
      "cell_type": "code",
      "source": [
        "import nltk\n",
        "nltk.download('punkt')\n",
        "nltk.download('punkt_tab')\n",
        "from newspaper import Article"
      ],
      "metadata": {
        "colab": {
          "base_uri": "https://localhost:8080/"
        },
        "id": "i8YHUXpGO6VX",
        "outputId": "3a9e7828-fda8-43cc-8551-7de165bb5e74"
      },
      "execution_count": 3,
      "outputs": [
        {
          "output_type": "stream",
          "name": "stderr",
          "text": [
            "[nltk_data] Downloading package punkt to /root/nltk_data...\n",
            "[nltk_data]   Package punkt is already up-to-date!\n",
            "[nltk_data] Downloading package punkt_tab to /root/nltk_data...\n",
            "[nltk_data]   Package punkt_tab is already up-to-date!\n"
          ]
        }
      ]
    },
    {
      "cell_type": "markdown",
      "source": [
        "3. 📰🧠 FUNCIÓN PARA EXTRAER Y RESUMIR UNA NOTICIA"
      ],
      "metadata": {
        "id": "2UmdokDTO9js"
      }
    },
    {
      "cell_type": "code",
      "source": [
        "from sumy.parsers.plaintext import PlaintextParser\n",
        "from sumy.nlp.tokenizers import Tokenizer\n",
        "from sumy.summarizers.lsa import LsaSummarizer\n",
        "\n",
        "def scrape_and_summarize(url, num_sentences=5):\n",
        "    try:\n",
        "        article = Article(url)\n",
        "        article.download()\n",
        "        article.parse()\n",
        "        article.nlp()\n",
        "\n",
        "        print(f\"📌 Título del artículo:\\n{article.title}\\n\")\n",
        "        print(f\"📅 Fecha de publicación: {article.publish_date}\\n\" if article.publish_date else \"\")\n",
        "        print(f\"📝 Texto original (primeros 500 caracteres):\\n{article.text[:500]}...\\n\")\n",
        "\n",
        "        parser = PlaintextParser.from_string(article.text, Tokenizer(\"english\"))\n",
        "        summarizer = LsaSummarizer()\n",
        "        summary = summarizer(parser.document, num_sentences)\n",
        "\n",
        "        print(\"🧾 Resumen generado:\")\n",
        "        for sentence in summary:\n",
        "            print(f\"- {sentence}\")\n",
        "    except Exception as e:\n",
        "        print(\"⚠️ Error al procesar el artículo:\", e)"
      ],
      "metadata": {
        "id": "mccc3669PAKO"
      },
      "execution_count": 4,
      "outputs": []
    },
    {
      "cell_type": "markdown",
      "source": [
        "4.🔗 EJEMPLO DE USO"
      ],
      "metadata": {
        "id": "EIDXMSM8PFM2"
      }
    },
    {
      "cell_type": "code",
      "source": [
        "url = \"https://cnnespanol.cnn.com/2025/04/23/mundo/cardenales-batalla-papa-francisco-trax\"  # Reemplaza por cualquier noticia\n",
        "scrape_and_summarize(url)"
      ],
      "metadata": {
        "colab": {
          "base_uri": "https://localhost:8080/"
        },
        "id": "0KwW9uk_PITK",
        "outputId": "ff896289-b428-43d5-e0e7-6a7e33b6aa0b"
      },
      "execution_count": 6,
      "outputs": [
        {
          "output_type": "stream",
          "name": "stdout",
          "text": [
            "📌 Título del artículo:\n",
            "Se acerca una batalla entre cardenales para definir el liderazgo de la Iglesia católica tras la muerte del papa Francisco\n",
            "\n",
            "📅 Fecha de publicación: 2025-04-23 00:00:00\n",
            "\n",
            "📝 Texto original (primeros 500 caracteres):\n",
            "CNN —\n",
            "\n",
            "La muerte del papa Francisco da el disparo de salida a lo que muchos ven como una batalla por el alma de la Iglesia, que enfrenta a los que quieren continuar sus reformas progresistas contra un pequeño, pero poderoso grupo que quiere revertirlas.\n",
            "\n",
            "Francisco remodeló drásticamente el grupo de prelados que pronto votarán por su sucesor frente al fresco de Miguel Ángel de El juicio final, en la Capilla Sixtina.\n",
            "\n",
            "Solo los cardenales menores de 80 años tienen derecho a voto, y él eligió a la m...\n",
            "\n",
            "🧾 Resumen generado:\n",
            "- Parte de la oposición está bien financiada y las maniobras previas al cónclave han durado varios años.\n",
            "- Video Ad Feedback Casi el 80 % de los cardenales que elegirán al próximo papa fueron nombrados por Francisco 03:12 - Fuente: CNN Casi el 80 % de los cardenales que elegirán al próximo papa fueron nombrados por Francisco 03:12\n",
            "- Las reformas han sido examinadas a través de una estructura denominada Sínodo de los Obispos, que ha sido el principal vehículo a través del cual el papa ha aplicado su agenda pastoral durante su papado.\n",
            "- Durante varios años antes de la muerte del papa, los opositores a su papado habían estado discutiendo cómo influir en el próximo cónclave.\n",
            "- Cuando los cardenales decidan quién debe ser elegido papa, se tendrán en cuenta diversos factores.\n"
          ]
        }
      ]
    }
  ]
}