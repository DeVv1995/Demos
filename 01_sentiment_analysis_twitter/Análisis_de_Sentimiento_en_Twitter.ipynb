{
  "nbformat": 4,
  "nbformat_minor": 0,
  "metadata": {
    "colab": {
      "provenance": []
    },
    "kernelspec": {
      "name": "python3",
      "display_name": "Python 3"
    },
    "language_info": {
      "name": "python"
    }
  },
  "cells": [
    {
      "cell_type": "markdown",
      "source": [
        "***Proyecto 1:*** Análisis de Sentimiento en Twitter"
      ],
      "metadata": {
        "id": "brT_tI6O6sUR"
      }
    },
    {
      "cell_type": "markdown",
      "source": [
        "***Descripción del demo:***\n",
        "Este proyecto realiza un análisis de sentimiento sobre un conjunto de tweets utilizando procesamiento de lenguaje natural (NLP) con la librería TextBlob. El objetivo es predecir si un texto es positivo, negativo o neutral y comparar estas predicciones con las etiquetas originales provistas en el dataset."
      ],
      "metadata": {
        "id": "QEFHfXIo61Ed"
      }
    },
    {
      "cell_type": "markdown",
      "source": [
        "***Tecnologías:***\n",
        "snscrape: para obtener tweets sin necesidad de una API.\n",
        "\n",
        "Python\n",
        "\n",
        "1. Pandas\n",
        "\n",
        "2. TextBlob\n",
        "\n",
        "3. Seaborn / Matplotlib\n",
        "\n",
        "4. scikit-learn (para matriz de confusión)\n",
        "\n",
        "5. Google Colab (para ejecución sin configuración local)"
      ],
      "metadata": {
        "id": "MGyO54pV7JVP"
      }
    },
    {
      "cell_type": "markdown",
      "source": [
        "# ***Demo***"
      ],
      "metadata": {
        "id": "5fwHYQY17ZiG"
      }
    },
    {
      "cell_type": "markdown",
      "source": [
        "🔧 INSTALACIÓN DE LIBRERÍAS"
      ],
      "metadata": {
        "id": "pik2z_bz7f-X"
      }
    },
    {
      "cell_type": "code",
      "source": [
        "!pip install -q textblob\n",
        "import nltk\n",
        "nltk.download('punkt')"
      ],
      "metadata": {
        "colab": {
          "base_uri": "https://localhost:8080/"
        },
        "id": "8dEoai6166s8",
        "outputId": "fac70276-88ce-4f7c-e53e-c9083c2b57bb"
      },
      "execution_count": 1,
      "outputs": [
        {
          "output_type": "stream",
          "name": "stderr",
          "text": [
            "[nltk_data] Downloading package punkt to /root/nltk_data...\n",
            "[nltk_data]   Package punkt is already up-to-date!\n"
          ]
        },
        {
          "output_type": "execute_result",
          "data": {
            "text/plain": [
              "True"
            ]
          },
          "metadata": {},
          "execution_count": 1
        }
      ]
    },
    {
      "cell_type": "markdown",
      "source": [
        "📦 IMPORTACIÓN DE LIBRERÍAS"
      ],
      "metadata": {
        "id": "69AQCs3J7Bmv"
      }
    },
    {
      "cell_type": "code",
      "execution_count": 2,
      "metadata": {
        "id": "i_I1ueAI6Zqr"
      },
      "outputs": [],
      "source": [
        "from textblob import TextBlob\n",
        "import pandas as pd\n",
        "import seaborn as sns\n",
        "import matplotlib.pyplot as plt\n",
        "from google.colab import files"
      ]
    },
    {
      "cell_type": "markdown",
      "source": [
        "📁 CARGA DEL ARCHIVO CSV"
      ],
      "metadata": {
        "id": "9tAiv7OPABnQ"
      }
    },
    {
      "cell_type": "code",
      "source": [
        "print(\"📤 Sube tu archivo CSV con las columnas: textID, text, selected_text, sentiment\")\n",
        "uploaded = files.upload()  # interfaz para subir archivo\n",
        "\n",
        "# Detectar nombre del archivo cargado\n",
        "import io\n",
        "file_name = list(uploaded.keys())[0]\n",
        "df = pd.read_csv(io.StringIO(uploaded[file_name].decode('utf-8')))\n",
        "df = df.dropna(subset=[\"text\"])  # por si hay valores nulos\n",
        "\n",
        "print(f\"✅ Archivo cargado: {file_name}\")\n",
        "print(f\"Número de tweets: {len(df)}\")"
      ],
      "metadata": {
        "colab": {
          "base_uri": "https://localhost:8080/",
          "height": 125
        },
        "id": "3LYUHHAJAB8h",
        "outputId": "d38af54a-8bce-42ef-a906-5468a8b93f2f"
      },
      "execution_count": 3,
      "outputs": [
        {
          "output_type": "stream",
          "name": "stdout",
          "text": [
            "📤 Sube tu archivo CSV con las columnas: textID, text, selected_text, sentiment\n"
          ]
        },
        {
          "output_type": "display_data",
          "data": {
            "text/plain": [
              "<IPython.core.display.HTML object>"
            ],
            "text/html": [
              "\n",
              "     <input type=\"file\" id=\"files-ddc64ce4-a8e2-40e7-bb79-ebb6fc2832d1\" name=\"files[]\" multiple disabled\n",
              "        style=\"border:none\" />\n",
              "     <output id=\"result-ddc64ce4-a8e2-40e7-bb79-ebb6fc2832d1\">\n",
              "      Upload widget is only available when the cell has been executed in the\n",
              "      current browser session. Please rerun this cell to enable.\n",
              "      </output>\n",
              "      <script>// Copyright 2017 Google LLC\n",
              "//\n",
              "// Licensed under the Apache License, Version 2.0 (the \"License\");\n",
              "// you may not use this file except in compliance with the License.\n",
              "// You may obtain a copy of the License at\n",
              "//\n",
              "//      http://www.apache.org/licenses/LICENSE-2.0\n",
              "//\n",
              "// Unless required by applicable law or agreed to in writing, software\n",
              "// distributed under the License is distributed on an \"AS IS\" BASIS,\n",
              "// WITHOUT WARRANTIES OR CONDITIONS OF ANY KIND, either express or implied.\n",
              "// See the License for the specific language governing permissions and\n",
              "// limitations under the License.\n",
              "\n",
              "/**\n",
              " * @fileoverview Helpers for google.colab Python module.\n",
              " */\n",
              "(function(scope) {\n",
              "function span(text, styleAttributes = {}) {\n",
              "  const element = document.createElement('span');\n",
              "  element.textContent = text;\n",
              "  for (const key of Object.keys(styleAttributes)) {\n",
              "    element.style[key] = styleAttributes[key];\n",
              "  }\n",
              "  return element;\n",
              "}\n",
              "\n",
              "// Max number of bytes which will be uploaded at a time.\n",
              "const MAX_PAYLOAD_SIZE = 100 * 1024;\n",
              "\n",
              "function _uploadFiles(inputId, outputId) {\n",
              "  const steps = uploadFilesStep(inputId, outputId);\n",
              "  const outputElement = document.getElementById(outputId);\n",
              "  // Cache steps on the outputElement to make it available for the next call\n",
              "  // to uploadFilesContinue from Python.\n",
              "  outputElement.steps = steps;\n",
              "\n",
              "  return _uploadFilesContinue(outputId);\n",
              "}\n",
              "\n",
              "// This is roughly an async generator (not supported in the browser yet),\n",
              "// where there are multiple asynchronous steps and the Python side is going\n",
              "// to poll for completion of each step.\n",
              "// This uses a Promise to block the python side on completion of each step,\n",
              "// then passes the result of the previous step as the input to the next step.\n",
              "function _uploadFilesContinue(outputId) {\n",
              "  const outputElement = document.getElementById(outputId);\n",
              "  const steps = outputElement.steps;\n",
              "\n",
              "  const next = steps.next(outputElement.lastPromiseValue);\n",
              "  return Promise.resolve(next.value.promise).then((value) => {\n",
              "    // Cache the last promise value to make it available to the next\n",
              "    // step of the generator.\n",
              "    outputElement.lastPromiseValue = value;\n",
              "    return next.value.response;\n",
              "  });\n",
              "}\n",
              "\n",
              "/**\n",
              " * Generator function which is called between each async step of the upload\n",
              " * process.\n",
              " * @param {string} inputId Element ID of the input file picker element.\n",
              " * @param {string} outputId Element ID of the output display.\n",
              " * @return {!Iterable<!Object>} Iterable of next steps.\n",
              " */\n",
              "function* uploadFilesStep(inputId, outputId) {\n",
              "  const inputElement = document.getElementById(inputId);\n",
              "  inputElement.disabled = false;\n",
              "\n",
              "  const outputElement = document.getElementById(outputId);\n",
              "  outputElement.innerHTML = '';\n",
              "\n",
              "  const pickedPromise = new Promise((resolve) => {\n",
              "    inputElement.addEventListener('change', (e) => {\n",
              "      resolve(e.target.files);\n",
              "    });\n",
              "  });\n",
              "\n",
              "  const cancel = document.createElement('button');\n",
              "  inputElement.parentElement.appendChild(cancel);\n",
              "  cancel.textContent = 'Cancel upload';\n",
              "  const cancelPromise = new Promise((resolve) => {\n",
              "    cancel.onclick = () => {\n",
              "      resolve(null);\n",
              "    };\n",
              "  });\n",
              "\n",
              "  // Wait for the user to pick the files.\n",
              "  const files = yield {\n",
              "    promise: Promise.race([pickedPromise, cancelPromise]),\n",
              "    response: {\n",
              "      action: 'starting',\n",
              "    }\n",
              "  };\n",
              "\n",
              "  cancel.remove();\n",
              "\n",
              "  // Disable the input element since further picks are not allowed.\n",
              "  inputElement.disabled = true;\n",
              "\n",
              "  if (!files) {\n",
              "    return {\n",
              "      response: {\n",
              "        action: 'complete',\n",
              "      }\n",
              "    };\n",
              "  }\n",
              "\n",
              "  for (const file of files) {\n",
              "    const li = document.createElement('li');\n",
              "    li.append(span(file.name, {fontWeight: 'bold'}));\n",
              "    li.append(span(\n",
              "        `(${file.type || 'n/a'}) - ${file.size} bytes, ` +\n",
              "        `last modified: ${\n",
              "            file.lastModifiedDate ? file.lastModifiedDate.toLocaleDateString() :\n",
              "                                    'n/a'} - `));\n",
              "    const percent = span('0% done');\n",
              "    li.appendChild(percent);\n",
              "\n",
              "    outputElement.appendChild(li);\n",
              "\n",
              "    const fileDataPromise = new Promise((resolve) => {\n",
              "      const reader = new FileReader();\n",
              "      reader.onload = (e) => {\n",
              "        resolve(e.target.result);\n",
              "      };\n",
              "      reader.readAsArrayBuffer(file);\n",
              "    });\n",
              "    // Wait for the data to be ready.\n",
              "    let fileData = yield {\n",
              "      promise: fileDataPromise,\n",
              "      response: {\n",
              "        action: 'continue',\n",
              "      }\n",
              "    };\n",
              "\n",
              "    // Use a chunked sending to avoid message size limits. See b/62115660.\n",
              "    let position = 0;\n",
              "    do {\n",
              "      const length = Math.min(fileData.byteLength - position, MAX_PAYLOAD_SIZE);\n",
              "      const chunk = new Uint8Array(fileData, position, length);\n",
              "      position += length;\n",
              "\n",
              "      const base64 = btoa(String.fromCharCode.apply(null, chunk));\n",
              "      yield {\n",
              "        response: {\n",
              "          action: 'append',\n",
              "          file: file.name,\n",
              "          data: base64,\n",
              "        },\n",
              "      };\n",
              "\n",
              "      let percentDone = fileData.byteLength === 0 ?\n",
              "          100 :\n",
              "          Math.round((position / fileData.byteLength) * 100);\n",
              "      percent.textContent = `${percentDone}% done`;\n",
              "\n",
              "    } while (position < fileData.byteLength);\n",
              "  }\n",
              "\n",
              "  // All done.\n",
              "  yield {\n",
              "    response: {\n",
              "      action: 'complete',\n",
              "    }\n",
              "  };\n",
              "}\n",
              "\n",
              "scope.google = scope.google || {};\n",
              "scope.google.colab = scope.google.colab || {};\n",
              "scope.google.colab._files = {\n",
              "  _uploadFiles,\n",
              "  _uploadFilesContinue,\n",
              "};\n",
              "})(self);\n",
              "</script> "
            ]
          },
          "metadata": {}
        },
        {
          "output_type": "stream",
          "name": "stdout",
          "text": [
            "Saving train.csv to train.csv\n",
            "✅ Archivo cargado: train.csv\n",
            "Número de tweets: 27480\n"
          ]
        }
      ]
    },
    {
      "cell_type": "markdown",
      "source": [
        " 🤖 ANÁLISIS DE SENTIMIENTO"
      ],
      "metadata": {
        "id": "pM_n5eyz72J9"
      }
    },
    {
      "cell_type": "code",
      "source": [
        "def obtener_sentimiento(texto):\n",
        "    blob = TextBlob(texto)\n",
        "    polaridad = blob.sentiment.polarity\n",
        "    if polaridad > 0.1:\n",
        "        return \"positive\"\n",
        "    elif polaridad < -0.1:\n",
        "        return \"negative\"\n",
        "    else:\n",
        "        return \"neutral\"\n",
        "\n",
        "df[\"predicted_sentiment\"] = df[\"text\"].apply(obtener_sentimiento)\n"
      ],
      "metadata": {
        "id": "wHwZkFPu74fc"
      },
      "execution_count": 4,
      "outputs": []
    },
    {
      "cell_type": "markdown",
      "source": [
        "📊 VISUALIZACIÓN DE RESULTADOS"
      ],
      "metadata": {
        "id": "tdJvDtdr8D13"
      }
    },
    {
      "cell_type": "code",
      "source": [
        "plt.figure(figsize=(10, 4))\n",
        "\n",
        "# Sentimiento original (si se quiere comparar)\n",
        "plt.subplot(1, 2, 1)\n",
        "sns.countplot(x=\"sentiment\", data=df, palette=\"Set2\")\n",
        "plt.title(\"Sentimiento Original\")\n",
        "plt.xlabel(\"Sentimiento\")\n",
        "plt.ylabel(\"Cantidad\")\n",
        "\n",
        "# Sentimiento estimado por TextBlob\n",
        "plt.subplot(1, 2, 2)\n",
        "sns.countplot(x=\"predicted_sentiment\", data=df, palette=\"Set1\")\n",
        "plt.title(\"Sentimiento Predicho (TextBlob)\")\n",
        "plt.xlabel(\"Sentimiento\")\n",
        "plt.ylabel(\"Cantidad\")\n",
        "\n",
        "plt.tight_layout()\n",
        "plt.show()"
      ],
      "metadata": {
        "colab": {
          "base_uri": "https://localhost:8080/",
          "height": 581
        },
        "id": "lzNEar7E8EkB",
        "outputId": "b31eea89-a399-4121-db90-4b036f1fec9d"
      },
      "execution_count": 5,
      "outputs": [
        {
          "output_type": "stream",
          "name": "stderr",
          "text": [
            "<ipython-input-5-0ab61e64f4ba>:5: FutureWarning: \n",
            "\n",
            "Passing `palette` without assigning `hue` is deprecated and will be removed in v0.14.0. Assign the `x` variable to `hue` and set `legend=False` for the same effect.\n",
            "\n",
            "  sns.countplot(x=\"sentiment\", data=df, palette=\"Set2\")\n",
            "<ipython-input-5-0ab61e64f4ba>:12: FutureWarning: \n",
            "\n",
            "Passing `palette` without assigning `hue` is deprecated and will be removed in v0.14.0. Assign the `x` variable to `hue` and set `legend=False` for the same effect.\n",
            "\n",
            "  sns.countplot(x=\"predicted_sentiment\", data=df, palette=\"Set1\")\n"
          ]
        },
        {
          "output_type": "display_data",
          "data": {
            "text/plain": [
              "<Figure size 1000x400 with 2 Axes>"
            ],
            "image/png": "[encoded data removed]"
          },
          "metadata": {}
        }
      ]
    },
    {
      "cell_type": "markdown",
      "source": [
        " 📊 MATRIZ DE CONFUSIÓN (opcional)"
      ],
      "metadata": {
        "id": "TgohupHuAjQD"
      }
    },
    {
      "cell_type": "code",
      "source": [
        "from sklearn.metrics import confusion_matrix, ConfusionMatrixDisplay\n",
        "\n",
        "if \"sentiment\" in df.columns:\n",
        "    cm = confusion_matrix(df[\"sentiment\"], df[\"predicted_sentiment\"], labels=[\"positive\", \"neutral\", \"negative\"])\n",
        "    disp = ConfusionMatrixDisplay(confusion_matrix=cm, display_labels=[\"positive\", \"neutral\", \"negative\"])\n",
        "    disp.plot(cmap=\"Blues\")\n",
        "    plt.title(\"Matriz de Confusión\")\n",
        "    plt.show()\n"
      ],
      "metadata": {
        "colab": {
          "base_uri": "https://localhost:8080/",
          "height": 472
        },
        "id": "B21qPK1JAjuC",
        "outputId": "5ba8ce5f-47ad-44b9-b5f2-e8f305b5a604"
      },
      "execution_count": 6,
      "outputs": [
        {
          "output_type": "display_data",
          "data": {
            "text/plain": [
              "<Figure size 640x480 with 2 Axes>"
            ],
            "image/png": "[encoded data removed]"
          },
          "metadata": {}
        }
      ]
    },
    {
      "cell_type": "markdown",
      "source": [
        "📘 INTERPRETACIÓN DE RESULTADOS"
      ],
      "metadata": {
        "id": "rvcEWm1_8HMR"
      }
    },
    {
      "cell_type": "code",
      "source": [
        "print(\"\\n🧠 EXPLICACIÓN DE LOS RESULTADOS:\\n\")\n",
        "print(\"🔹 En el gráfico de la izquierda (Sentimiento Original), se muestra la cantidad de tweets clasificados por humanos como positivos, negativos o neutrales.\")\n",
        "print(\"🔹 En el gráfico de la derecha (Sentimiento Predicho), se observa cómo TextBlob clasificó esos mismos tweets.\")\n",
        "print(\"🔹 La comparación permite ver si el modelo tiende a sobreestimar un tipo de sentimiento (por ejemplo, clasificar muchos tweets como neutrales).\")\n",
        "\n",
        "if \"sentiment\" in df.columns:\n",
        "    print(\"\\n📊 La matriz de confusión muestra cómo se alinean las predicciones con las etiquetas originales:\")\n",
        "    print(\"    - La diagonal principal representa las predicciones correctas.\")\n",
        "    print(\"    - Los valores fuera de la diagonal indican errores.\")\n",
        "    print(\"    - Por ejemplo, si hay muchos tweets positivos clasificados como neutrales, eso aparecerá fuera de la diagonal.\")\n",
        "    print(\"\\n✅ Este análisis es útil para validar la efectividad del modelo y explorar mejoras con modelos más avanzados (como BERT).\")\n"
      ],
      "metadata": {
        "colab": {
          "base_uri": "https://localhost:8080/"
        },
        "id": "YuzZ0L6M8J22",
        "outputId": "d2502f62-f9aa-4f33-8246-f16ab847b5dc"
      },
      "execution_count": 7,
      "outputs": [
        {
          "output_type": "stream",
          "name": "stdout",
          "text": [
            "\n",
            "🧠 EXPLICACIÓN DE LOS RESULTADOS:\n",
            "\n",
            "🔹 En el gráfico de la izquierda (Sentimiento Original), se muestra la cantidad de tweets clasificados por humanos como positivos, negativos o neutrales.\n",
            "🔹 En el gráfico de la derecha (Sentimiento Predicho), se observa cómo TextBlob clasificó esos mismos tweets.\n",
            "🔹 La comparación permite ver si el modelo tiende a sobreestimar un tipo de sentimiento (por ejemplo, clasificar muchos tweets como neutrales).\n",
            "\n",
            "📊 La matriz de confusión muestra cómo se alinean las predicciones con las etiquetas originales:\n",
            "    - La diagonal principal representa las predicciones correctas.\n",
            "    - Los valores fuera de la diagonal indican errores.\n",
            "    - Por ejemplo, si hay muchos tweets positivos clasificados como neutrales, eso aparecerá fuera de la diagonal.\n",
            "\n",
            "✅ Este análisis es útil para validar la efectividad del modelo y explorar mejoras con modelos más avanzados (como BERT).\n"
          ]
        }
      ]
    },
    {
      "cell_type": "markdown",
      "source": [
        "💾 OPCIONAL: GUARDAR COMO CSV"
      ],
      "metadata": {
        "id": "_r6CRmty8MOS"
      }
    },
    {
      "cell_type": "code",
      "source": [
        "# df.to_csv(\"tweets_con_sentimiento.csv\", index=False)"
      ],
      "metadata": {
        "id": "kj1HRv4_8PM1"
      },
      "execution_count": null,
      "outputs": []
    }
  ]
}